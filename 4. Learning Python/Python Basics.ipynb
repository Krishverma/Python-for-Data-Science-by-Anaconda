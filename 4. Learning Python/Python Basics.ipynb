{
 "cells": [
  {
   "cell_type": "markdown",
   "id": "69d06209-951a-42f4-9a8f-d92be7b43431",
   "metadata": {},
   "source": [
    "## Print Hello World"
   ]
  },
  {
   "cell_type": "code",
   "execution_count": 9,
   "id": "54fa8684-262d-47d7-877e-7e792d278d45",
   "metadata": {},
   "outputs": [
    {
     "name": "stdout",
     "output_type": "stream",
     "text": [
      "Hello World!\n"
     ]
    },
    {
     "name": "stdin",
     "output_type": "stream",
     "text": [
      "What is your name? Krish \n"
     ]
    },
    {
     "name": "stdout",
     "output_type": "stream",
     "text": [
      "Nice to meet you Krish \n"
     ]
    }
   ],
   "source": [
    "# Example file for variables\n",
    "# LinkedIn Learning Python course by Joe Marini\n",
    "print(\"Hello World!\")\n",
    "name =  input(\"What is your name?\")\n",
    "print(\"Nice to meet you\",name)"
   ]
  },
  {
   "cell_type": "code",
   "execution_count": 8,
   "id": "4aef6574-4aa5-43d6-a4a6-773cc3de844f",
   "metadata": {},
   "outputs": [
    {
     "name": "stdout",
     "output_type": "stream",
     "text": [
      "Hello World!\n"
     ]
    },
    {
     "name": "stdin",
     "output_type": "stream",
     "text": [
      "What is your name? Krish\n"
     ]
    },
    {
     "name": "stdout",
     "output_type": "stream",
     "text": [
      "Nice to meet you Krish\n"
     ]
    }
   ],
   "source": [
    "def main():\n",
    "    print(\"Hello World!\")\n",
    "    name =  input(\"What is your name?\")\n",
    "    print(\"Nice to meet you\",name)\n",
    "\n",
    "if __name__ == \"__main__\":\n",
    "    main()"
   ]
  },
  {
   "cell_type": "markdown",
   "id": "b12fc7fb-56aa-4a1b-bc46-00c2ca909464",
   "metadata": {},
   "source": [
    "## Variables"
   ]
  },
  {
   "cell_type": "code",
   "execution_count": 14,
   "id": "0d63e51b-7265-4812-8815-0aa86759e1cb",
   "metadata": {},
   "outputs": [
    {
     "name": "stdout",
     "output_type": "stream",
     "text": [
      "5\n",
      "13.2\n",
      "This is a string\n",
      "True\n",
      "[0, 1, 'two', 3.2, False]\n",
      "(0, 1, 2)\n",
      "{'one': 1, 'two': 2}\n",
      "abc\n"
     ]
    }
   ],
   "source": [
    "# Example file for variables\n",
    "# LinkedIn Learning Python course by Joe Marini\n",
    "\n",
    "\n",
    "# Basic data types in Python: Numbers, Strings, Booleans, Sequences, Dictionaries\n",
    "myint = 5\n",
    "myfloat = 13.2\n",
    "mystr = \"This is a string\"\n",
    "mybool = True\n",
    "mylist = [0, 1, \"two\", 3.2, False]\n",
    "mytuple = (0, 1, 2)\n",
    "mydict = {\"one\" : 1, \"two\" : 2}\n",
    "\n",
    "print(myint)\n",
    "print(myfloat)\n",
    "print(mystr)\n",
    "print(mybool)\n",
    "print(mylist)\n",
    "print(mytuple)\n",
    "print(mydict)\n",
    "\n",
    "# re-declaring a variable works\n",
    "myint = \"abc\"\n",
    "print(myint)\n"
   ]
  },
  {
   "cell_type": "code",
   "execution_count": 16,
   "id": "f1650f00-5dac-4b94-a815-983a881a21dd",
   "metadata": {},
   "outputs": [
    {
     "name": "stdout",
     "output_type": "stream",
     "text": [
      "two\n",
      "1\n",
      "[1, 'two', 3.2, False]\n",
      "[1, 3.2]\n"
     ]
    }
   ],
   "source": [
    "\n",
    "# to access a member of a sequence type, use []\n",
    "print(mylist[2])\n",
    "print(mytuple[1])\n",
    "\n",
    "# use slices to get parts of a sequence\n",
    "print(mylist[1:5])\n",
    "print(mylist[1:5:2])\n"
   ]
  },
  {
   "cell_type": "code",
   "execution_count": 17,
   "id": "3e467f3c-ad1e-4f4d-9343-4bde9e8f3271",
   "metadata": {},
   "outputs": [
    {
     "name": "stdout",
     "output_type": "stream",
     "text": [
      "[False, 3.2, 'two', 1, 0]\n"
     ]
    }
   ],
   "source": [
    "# you can use slices to reverse a sequence\n",
    "print(mylist[::-1])"
   ]
  },
  {
   "cell_type": "code",
   "execution_count": 20,
   "id": "12db1d63-d26d-4bde-b3ac-4e51dd0bd928",
   "metadata": {},
   "outputs": [
    {
     "name": "stdout",
     "output_type": "stream",
     "text": [
      "1\n"
     ]
    }
   ],
   "source": [
    "#dictionaries are accessed via keys\n",
    "print(mydict[\"one\"])\n"
   ]
  },
  {
   "cell_type": "code",
   "execution_count": 21,
   "id": "c49f4f3e-ba93-4546-848e-0b810b3882f7",
   "metadata": {},
   "outputs": [
    {
     "ename": "TypeError",
     "evalue": "can only concatenate str (not \"int\") to str",
     "output_type": "error",
     "traceback": [
      "\u001b[0;31m---------------------------------------------------------------------------\u001b[0m",
      "\u001b[0;31mTypeError\u001b[0m                                 Traceback (most recent call last)",
      "Cell \u001b[0;32mIn[21], line 2\u001b[0m\n\u001b[1;32m      1\u001b[0m \u001b[38;5;66;03m# ERROR: variables of different types cannot be combined\u001b[39;00m\n\u001b[0;32m----> 2\u001b[0m \u001b[38;5;28mprint\u001b[39m(\u001b[38;5;124;43m\"\u001b[39;49m\u001b[38;5;124;43mstring type\u001b[39;49m\u001b[38;5;124;43m\"\u001b[39;49m\u001b[38;5;241;43m+\u001b[39;49m\u001b[38;5;241;43m123\u001b[39;49m)\n",
      "\u001b[0;31mTypeError\u001b[0m: can only concatenate str (not \"int\") to str"
     ]
    }
   ],
   "source": [
    "# ERROR: variables of different types cannot be combined\n",
    "print(\"string type\"+123)"
   ]
  },
  {
   "cell_type": "code",
   "execution_count": 22,
   "id": "553658ab-cabf-4114-bc49-8644a83f37ae",
   "metadata": {},
   "outputs": [
    {
     "name": "stdout",
     "output_type": "stream",
     "text": [
      "string type123\n"
     ]
    }
   ],
   "source": [
    "print(\"string type\"+str(123))"
   ]
  },
  {
   "cell_type": "code",
   "execution_count": 23,
   "id": "0355357a-5e0c-431d-b638-1c0865af1717",
   "metadata": {},
   "outputs": [
    {
     "name": "stdout",
     "output_type": "stream",
     "text": [
      "def\n",
      "This is a string\n"
     ]
    }
   ],
   "source": [
    "# Global vs. local variables in functions\n",
    "def  someFunction():\n",
    "    mystr  = \"def\"\n",
    "    print(mystr)\n",
    "\n",
    "someFunction()\n",
    "print(mystr)"
   ]
  },
  {
   "cell_type": "code",
   "execution_count": 24,
   "id": "3e52dc87-7182-41ca-b112-639f4fef1d04",
   "metadata": {},
   "outputs": [
    {
     "name": "stdout",
     "output_type": "stream",
     "text": [
      "def\n",
      "def\n"
     ]
    }
   ],
   "source": [
    "def otherFunction():\n",
    "    global mystr\n",
    "    mystr = \"def\"\n",
    "    print(mystr)\n",
    "\n",
    "otherFunction()\n",
    "print(mystr)"
   ]
  },
  {
   "cell_type": "code",
   "execution_count": 25,
   "id": "6cb16488-58e5-4d8e-9324-c4fe5a7825d6",
   "metadata": {},
   "outputs": [
    {
     "ename": "NameError",
     "evalue": "name 'mystr' is not defined",
     "output_type": "error",
     "traceback": [
      "\u001b[0;31m---------------------------------------------------------------------------\u001b[0m",
      "\u001b[0;31mNameError\u001b[0m                                 Traceback (most recent call last)",
      "Cell \u001b[0;32mIn[25], line 2\u001b[0m\n\u001b[1;32m      1\u001b[0m \u001b[38;5;28;01mdel\u001b[39;00m mystr\n\u001b[0;32m----> 2\u001b[0m \u001b[38;5;28mprint\u001b[39m(\u001b[43mmystr\u001b[49m)\n",
      "\u001b[0;31mNameError\u001b[0m: name 'mystr' is not defined"
     ]
    }
   ],
   "source": [
    "del mystr\n",
    "print(mystr)"
   ]
  },
  {
   "cell_type": "markdown",
   "id": "77a05591-f4f5-42b5-a40c-529f283b94d5",
   "metadata": {},
   "source": [
    "## Python Functions\n"
   ]
  },
  {
   "cell_type": "code",
   "execution_count": 26,
   "id": "83143436-d352-43c4-b6bc-ae9a9cd0c4ca",
   "metadata": {},
   "outputs": [
    {
     "name": "stdout",
     "output_type": "stream",
     "text": [
      "I am a function\n",
      "I am a function\n",
      "None\n",
      "<function func1 at 0x1040d5580>\n"
     ]
    }
   ],
   "source": [
    "# Example file for working with functions\n",
    "# LinkedIn Learning Python course by Joe Marini\n",
    "\n",
    "\n",
    "# TODO: define a basic function\n",
    "def func1():\n",
    "    print(\"I am a function\")\n",
    "\n",
    "func1()\n",
    "print(func1())\n",
    "print(func1)\n"
   ]
  },
  {
   "cell_type": "code",
   "execution_count": 27,
   "id": "79b13962-e9a8-4360-9d65-ab1057bf3eea",
   "metadata": {},
   "outputs": [
    {
     "name": "stdout",
     "output_type": "stream",
     "text": [
      "10   20\n",
      "10   20\n",
      "None\n",
      "27\n"
     ]
    }
   ],
   "source": [
    "# TODO: function that takes arguments\n",
    "def func2(arg1,arg2):\n",
    "    print(arg1,\" \",arg2)\n",
    "\n",
    "# TODO: function that returns a value\n",
    "def cube(x):\n",
    "    return x*x*x\n",
    "\n",
    "func2(10,20)\n",
    "print(func2(10,20))\n",
    "print(cube(3))\n"
   ]
  },
  {
   "cell_type": "code",
   "execution_count": 30,
   "id": "e5168cc2-10d5-4f32-bead-85a2ff38a50e",
   "metadata": {},
   "outputs": [
    {
     "name": "stdout",
     "output_type": "stream",
     "text": [
      "2\n",
      "8\n",
      "8\n"
     ]
    }
   ],
   "source": [
    "# TODO: function with default value for an argument\n",
    "def power(num, x=1):\n",
    "    result = 1\n",
    "    for i in range(x):\n",
    "        result = result * num\n",
    "    return result\n",
    "\n",
    "print(power(2))\n",
    "print(power(2,3))\n",
    "print(power(x=3, num=2))\n"
   ]
  },
  {
   "cell_type": "code",
   "execution_count": 32,
   "id": "de46e5ab-ec0f-4230-853b-f98d663af7e5",
   "metadata": {},
   "outputs": [
    {
     "name": "stdout",
     "output_type": "stream",
     "text": [
      "23\n",
      "33\n"
     ]
    }
   ],
   "source": [
    "# TODO: function with variable number of arguments\n",
    "\n",
    "def multi_add(*args):\n",
    "    result =0\n",
    "    for x in args:\n",
    "        result +=x\n",
    "    return result\n",
    "\n",
    "print(multi_add(4,5,10,4))\n",
    "print(multi_add(4,5,10,4,10))"
   ]
  },
  {
   "cell_type": "code",
   "execution_count": 37,
   "id": "b1e437d3-3bb2-4d9d-bca1-12e7414dc010",
   "metadata": {},
   "outputs": [
    {
     "name": "stdout",
     "output_type": "stream",
     "text": [
      "76\n",
      "116\n"
     ]
    }
   ],
   "source": [
    "def multi_args(arg1, *args):\n",
    "    result =0\n",
    "    for x in args:\n",
    "        result +=x\n",
    "    return result * arg1\n",
    "\n",
    "print(multi_args(4,5,10,4))\n",
    "print(multi_args(4,5,10,4,10))"
   ]
  },
  {
   "cell_type": "markdown",
   "id": "3d9e3fd9-6b32-4c4a-8d88-e8daaae1f148",
   "metadata": {},
   "source": [
    "## Conditionals"
   ]
  },
  {
   "cell_type": "code",
   "execution_count": 38,
   "id": "0739fbb5-5404-4ff6-a04c-51d6920190d6",
   "metadata": {},
   "outputs": [
    {
     "name": "stdout",
     "output_type": "stream",
     "text": [
      "x is less than y\n"
     ]
    }
   ],
   "source": [
    "# Example file for working with conditional statements\n",
    "# LinkedIn Learning Python course by Joe Marini\n",
    "\n",
    "def main():\n",
    "    x, y = 10, 100\n",
    "\n",
    "    # conditional flow uses if, elif, else\n",
    "    if x<y:\n",
    "        result = \"x is less than y\"\n",
    "\n",
    "    print(result)\n",
    "    \n",
    "if __name__ == \"__main__\":\n",
    "    main()\n"
   ]
  },
  {
   "cell_type": "code",
   "execution_count": 39,
   "id": "4ac74bc7-4d26-4cbc-97c3-20d4003ef23b",
   "metadata": {},
   "outputs": [
    {
     "ename": "TypeError",
     "evalue": "cannot unpack non-iterable int object",
     "output_type": "error",
     "traceback": [
      "\u001b[0;31m---------------------------------------------------------------------------\u001b[0m",
      "\u001b[0;31mTypeError\u001b[0m                                 Traceback (most recent call last)",
      "Cell \u001b[0;32mIn[39], line 11\u001b[0m\n\u001b[1;32m      8\u001b[0m     \u001b[38;5;28mprint\u001b[39m(result)\n\u001b[1;32m     10\u001b[0m \u001b[38;5;28;01mif\u001b[39;00m \u001b[38;5;18m__name__\u001b[39m \u001b[38;5;241m==\u001b[39m \u001b[38;5;124m\"\u001b[39m\u001b[38;5;124m__main__\u001b[39m\u001b[38;5;124m\"\u001b[39m:\n\u001b[0;32m---> 11\u001b[0m     \u001b[43mmain\u001b[49m\u001b[43m(\u001b[49m\u001b[43m)\u001b[49m\n",
      "Cell \u001b[0;32mIn[39], line 2\u001b[0m, in \u001b[0;36mmain\u001b[0;34m()\u001b[0m\n\u001b[1;32m      1\u001b[0m \u001b[38;5;28;01mdef\u001b[39;00m \u001b[38;5;21mmain\u001b[39m():\n\u001b[0;32m----> 2\u001b[0m     x, y \u001b[38;5;241m=\u001b[39m \u001b[38;5;241m10\u001b[39m\n\u001b[1;32m      4\u001b[0m     \u001b[38;5;66;03m# conditional flow uses if, elif, else\u001b[39;00m\n\u001b[1;32m      5\u001b[0m     \u001b[38;5;28;01mif\u001b[39;00m x\u001b[38;5;241m<\u001b[39my:\n",
      "\u001b[0;31mTypeError\u001b[0m: cannot unpack non-iterable int object"
     ]
    }
   ],
   "source": [
    "def main():\n",
    "    x, y = 10\n",
    "\n",
    "    # conditional flow uses if, elif, else\n",
    "    if x<y:\n",
    "        result = \"x is less than y\"\n",
    "\n",
    "    print(result)\n",
    "    \n",
    "if __name__ == \"__main__\":\n",
    "    main()\n"
   ]
  },
  {
   "cell_type": "code",
   "execution_count": 40,
   "id": "7730c9a3-3c16-447d-8532-513ca0328009",
   "metadata": {},
   "outputs": [
    {
     "name": "stdout",
     "output_type": "stream",
     "text": [
      "x is greater than y\n"
     ]
    }
   ],
   "source": [
    "def main():\n",
    "    x, y = 1000, 100\n",
    "\n",
    "    # conditional flow uses if, elif, else\n",
    "    if x<y:\n",
    "        result = \"x is less than y\"\n",
    "    else:\n",
    "        result = \"x is greater than y\"\n",
    "    print(result)\n",
    "    \n",
    "if __name__ == \"__main__\":\n",
    "    main()\n"
   ]
  },
  {
   "cell_type": "code",
   "execution_count": 42,
   "id": "d6c40269-1141-476a-b555-4343fbf5e1dd",
   "metadata": {},
   "outputs": [
    {
     "name": "stdout",
     "output_type": "stream",
     "text": [
      "x is the same as y\n"
     ]
    }
   ],
   "source": [
    "def main():\n",
    "    x, y = 100, 100\n",
    "\n",
    "    # conditional flow uses if, elif, else\n",
    "    if x<y:\n",
    "        result = \"x is less than y\"\n",
    "    elif x==y:\n",
    "        result = \"x is the same as y\"\n",
    "    else:\n",
    "        result = \"x is greater than y\"\n",
    "\n",
    "    print(result)\n",
    "    \n",
    "if __name__ == \"__main__\":\n",
    "    main()\n"
   ]
  },
  {
   "cell_type": "code",
   "execution_count": 45,
   "id": "aa0d8f65-227a-4f70-abe7-a00648e40351",
   "metadata": {},
   "outputs": [
    {
     "name": "stdout",
     "output_type": "stream",
     "text": [
      "x is less than y\n"
     ]
    }
   ],
   "source": [
    "# conditional statements let you use \"a if C else b\n",
    "x=10\n",
    "y=100\n",
    "result = \"x is less than y\" if x<y else \"x is greater than or equal to y\"\n",
    "print(result)"
   ]
  },
  {
   "cell_type": "code",
   "execution_count": 47,
   "id": "8d913c71-8abf-40e7-91e1-748038f2351a",
   "metadata": {},
   "outputs": [
    {
     "name": "stdout",
     "output_type": "stream",
     "text": [
      "1\n"
     ]
    }
   ],
   "source": [
    "# match-case makes it easy to compare multiple values\n",
    "value = \"one\"\n",
    "match value:\n",
    "    case \"one\":\n",
    "        result = 1\n",
    "    case \"two\":\n",
    "        result = 2\n",
    "    case \"three\" | \"four\":\n",
    "        result = (3,4)\n",
    "    case _:\n",
    "        result = -1\n",
    "\n",
    "print(result)"
   ]
  },
  {
   "cell_type": "code",
   "execution_count": 49,
   "id": "9febba88-6b51-4f03-b1d6-0e69b1a8f0f3",
   "metadata": {},
   "outputs": [
    {
     "name": "stdout",
     "output_type": "stream",
     "text": [
      "(3, 4)\n"
     ]
    }
   ],
   "source": [
    "value = \"three\"\n",
    "match value:\n",
    "    case \"one\":\n",
    "        result = 1\n",
    "    case \"two\":\n",
    "        result = 2\n",
    "    case \"three\" | \"four\":\n",
    "        result = (3,4)\n",
    "    case _:\n",
    "        result = -1\n",
    "\n",
    "print(result)"
   ]
  },
  {
   "cell_type": "code",
   "execution_count": 50,
   "id": "41e2b576-9f01-4d57-ba66-14452ce1e3cf",
   "metadata": {},
   "outputs": [
    {
     "name": "stdout",
     "output_type": "stream",
     "text": [
      "-1\n"
     ]
    }
   ],
   "source": [
    "value = \"seven\"\n",
    "match value:\n",
    "    case \"one\":\n",
    "        result = 1\n",
    "    case \"two\":\n",
    "        result = 2\n",
    "    case \"three\" | \"four\":\n",
    "        result = (3,4)\n",
    "    case _:\n",
    "        result = -1\n",
    "\n",
    "print(result)"
   ]
  },
  {
   "cell_type": "markdown",
   "id": "8fe23945-744d-4566-93f4-95d90c0a089f",
   "metadata": {},
   "source": [
    "## Loops"
   ]
  },
  {
   "cell_type": "code",
   "execution_count": 52,
   "id": "98f7024d-fe10-4ad9-a5e3-301fa214467d",
   "metadata": {},
   "outputs": [
    {
     "name": "stdout",
     "output_type": "stream",
     "text": [
      "0\n",
      "1\n",
      "2\n",
      "3\n",
      "4\n"
     ]
    }
   ],
   "source": [
    "# Example file for working with loops\n",
    "# LinkedIn Learning Python course by Joe Marini\n",
    "\n",
    "def main():\n",
    "    x = 0\n",
    "\n",
    "    # TODO: define a while loop\n",
    "    while(x<5):\n",
    "        print(x)\n",
    "        x+=1\n",
    "  \n",
    "if __name__ == \"__main__\":\n",
    "    main()\n"
   ]
  },
  {
   "cell_type": "code",
   "execution_count": 54,
   "id": "a1df505a-d9e4-4f32-9df3-785660569c38",
   "metadata": {},
   "outputs": [
    {
     "name": "stdout",
     "output_type": "stream",
     "text": [
      "5\n",
      "6\n",
      "7\n",
      "8\n",
      "9\n"
     ]
    }
   ],
   "source": [
    "# Example file for working with loops\n",
    "# LinkedIn Learning Python course by Joe Marini\n",
    "\n",
    "def main():\n",
    "\n",
    "    # TODO: define a for loop\n",
    "    for i in range(5,10):\n",
    "        print(i)\n",
    "\n",
    "  \n",
    "if __name__ == \"__main__\":\n",
    "    main()\n"
   ]
  },
  {
   "cell_type": "code",
   "execution_count": 55,
   "id": "bca9fe4d-bf94-4a2c-8ae4-d3215ad50d13",
   "metadata": {},
   "outputs": [
    {
     "name": "stdout",
     "output_type": "stream",
     "text": [
      "Mon\n",
      "Tue\n",
      "Wed\n",
      "Thu\n",
      "Fri\n",
      "Sat\n",
      "Sun\n"
     ]
    }
   ],
   "source": [
    "# Example file for working with loops\n",
    "# LinkedIn Learning Python course by Joe Marini\n",
    "\n",
    "def main():\n",
    "    \n",
    "    # TODO: use a for loop over a collection\n",
    "    days = [\"Mon\",\"Tue\",\"Wed\",\"Thu\",\"Fri\",\"Sat\",\"Sun\"]\n",
    "    for d in days:\n",
    "        print(d)\n",
    "\n",
    "  \n",
    "if __name__ == \"__main__\":\n",
    "    main()\n"
   ]
  },
  {
   "cell_type": "code",
   "execution_count": 56,
   "id": "a3d4fbbd-9337-4984-91d5-e91d7ab0b32c",
   "metadata": {},
   "outputs": [
    {
     "name": "stdout",
     "output_type": "stream",
     "text": [
      "5\n",
      "6\n"
     ]
    }
   ],
   "source": [
    "# Example file for working with loops\n",
    "# LinkedIn Learning Python course by Joe Marini\n",
    "\n",
    "def main():\n",
    "    \n",
    "    # TODO: use the break and continue statements\n",
    "    for i in range(5,10):\n",
    "        if i == 7:\n",
    "            break\n",
    "        print(i)\n",
    "\n",
    "if __name__ == \"__main__\":\n",
    "    main()\n"
   ]
  },
  {
   "cell_type": "code",
   "execution_count": 57,
   "id": "18008703-05ee-40e7-a1d1-48bbee2f9109",
   "metadata": {},
   "outputs": [
    {
     "name": "stdout",
     "output_type": "stream",
     "text": [
      "5\n",
      "7\n",
      "9\n"
     ]
    }
   ],
   "source": [
    "# Example file for working with loops\n",
    "# LinkedIn Learning Python course by Joe Marini\n",
    "\n",
    "def main():\n",
    "    \n",
    "    # TODO: use the break and continue statements\n",
    "    for i in range(5,10):\n",
    "        if i%2==0:\n",
    "            continue\n",
    "        print(i)\n",
    "\n",
    "if __name__ == \"__main__\":\n",
    "    main()\n"
   ]
  },
  {
   "cell_type": "code",
   "execution_count": 59,
   "id": "07fbab3e-18fc-43b5-9815-462d84f76d31",
   "metadata": {},
   "outputs": [
    {
     "name": "stdout",
     "output_type": "stream",
     "text": [
      "0 Mon\n",
      "1 Tue\n",
      "2 Wed\n",
      "3 Thu\n",
      "4 Fri\n",
      "5 Sat\n",
      "6 Sun\n"
     ]
    }
   ],
   "source": [
    "# Example file for working with loops\n",
    "# LinkedIn Learning Python course by Joe Marini\n",
    "\n",
    "def main():\n",
    "  \n",
    "    # TODO: using the enumerate() function to get index \n",
    "    days = [\"Mon\",\"Tue\",\"Wed\",\"Thu\",\"Fri\",\"Sat\",\"Sun\"]\n",
    "    for i,d in enumerate(days): # enumerate function returns both index and value\n",
    "        print(i,d)\n",
    "\n",
    "  \n",
    "if __name__ == \"__main__\":\n",
    "    main()\n"
   ]
  },
  {
   "cell_type": "markdown",
   "id": "ac2254fd-11b6-4503-b0fe-22c1d1dd760d",
   "metadata": {},
   "source": [
    "## Classes"
   ]
  },
  {
   "cell_type": "code",
   "execution_count": 64,
   "id": "9908ff61-8937-4e7f-8444-95fd03fce53a",
   "metadata": {},
   "outputs": [
    {
     "name": "stdout",
     "output_type": "stream",
     "text": [
      "3\n",
      "gas\n",
      "4\n",
      "Driving my gas car at 30\n",
      "Driving my electric car at 40\n",
      "Driving my gas motorcycle at 50\n"
     ]
    }
   ],
   "source": [
    "# Example file for working with classes\n",
    "# LinkedIn Learning Python course by Joe Marini\n",
    "\n",
    "class Vehicle():\n",
    "    def __init__(self, bodystyle):\n",
    "        self.bodystyle = bodystyle\n",
    "\n",
    "    def drive(self,speed):\n",
    "        self.mode = \"driving\"\n",
    "        self.speed = speed\n",
    "\n",
    "class Car(Vehicle):\n",
    "    def __init__(self, enginetype):\n",
    "        super().__init__(\"Car\")\n",
    "        self.wheels = 4\n",
    "        self.doors = 4\n",
    "        self.enginetype = enginetype\n",
    "\n",
    "    def drive(self,speed):\n",
    "        super().drive(speed)\n",
    "        print(\"Driving my\",self.enginetype,\"car at\",self.speed)\n",
    "\n",
    "class Motorcycle(Vehicle):\n",
    "    def __init__(self,enginetype, hassidecar):\n",
    "        super().__init__(\"Motorcycle\")\n",
    "        if(hassidecar):\n",
    "            self.wheels = 3\n",
    "        else:\n",
    "            self.wheels = 2\n",
    "        self.doors = 0\n",
    "        self.enginetype = enginetype\n",
    "\n",
    "    \n",
    "    def drive(self,speed):\n",
    "        super().drive(speed)\n",
    "        print(\"Driving my\",self.enginetype,\"motorcycle at\",self.speed)\n",
    "\n",
    "\n",
    "car1 = Car(\"gas\")\n",
    "car2 = Car(\"electric\")\n",
    "mc1 = Motorcycle(\"gas\", True)\n",
    "\n",
    "print(mc1.wheels)\n",
    "print(car1.enginetype)\n",
    "print(car2.doors)\n",
    "\n",
    "car1.drive(30)\n",
    "car2.drive(40)\n",
    "mc1.drive(50)"
   ]
  },
  {
   "cell_type": "markdown",
   "id": "f52ffaf4-a40a-4f09-999e-58974af4a107",
   "metadata": {},
   "source": [
    "## Modules"
   ]
  },
  {
   "cell_type": "code",
   "execution_count": 65,
   "id": "3a4f9e6d-6828-4614-a67b-663306943f5a",
   "metadata": {},
   "outputs": [
    {
     "name": "stdout",
     "output_type": "stream",
     "text": [
      "The aquare root of 16 is:  4.0\n",
      "Pi is:  3.141592653589793\n"
     ]
    }
   ],
   "source": [
    "# LinkedIn Learning Python course by Joe Marini\n",
    "\n",
    "\n",
    "# TODO: import the math module, which contains features for working with mathematics\n",
    "import math\n",
    "\n",
    "# TODO: the math module contains lots of pre-built functions\n",
    "print(\"The aquare root of 16 is: \",math.sqrt(16))\n",
    "\n",
    "# TODO: in addition to functions, some modules contain useful constants \n",
    "print(\"Pi is: \",math.pi)\n"
   ]
  },
  {
   "cell_type": "markdown",
   "id": "26146b73-f0b9-46da-8c2d-829be872b7e6",
   "metadata": {},
   "source": [
    "## Exceptions"
   ]
  },
  {
   "cell_type": "code",
   "execution_count": 66,
   "id": "f31b4259-e57f-44d3-96c2-cf6f1a8bfd9f",
   "metadata": {},
   "outputs": [
    {
     "ename": "ZeroDivisionError",
     "evalue": "division by zero",
     "output_type": "error",
     "traceback": [
      "\u001b[0;31m---------------------------------------------------------------------------\u001b[0m",
      "\u001b[0;31mZeroDivisionError\u001b[0m                         Traceback (most recent call last)",
      "Cell \u001b[0;32mIn[66], line 6\u001b[0m\n\u001b[1;32m      1\u001b[0m \u001b[38;5;66;03m# Example file for working with classes\u001b[39;00m\n\u001b[1;32m      2\u001b[0m \u001b[38;5;66;03m# LinkedIn Learning Python course by Joe Marini\u001b[39;00m\n\u001b[1;32m      3\u001b[0m \n\u001b[1;32m      4\u001b[0m \u001b[38;5;66;03m# Errors can happen in programs, and we need a clean way to handle them\u001b[39;00m\n\u001b[1;32m      5\u001b[0m \u001b[38;5;66;03m# TODO: This code will cause an error because you can't divide by zero:\u001b[39;00m\n\u001b[0;32m----> 6\u001b[0m x \u001b[38;5;241m=\u001b[39m \u001b[38;5;241;43m10\u001b[39;49m\u001b[38;5;241;43m/\u001b[39;49m\u001b[38;5;241;43m0\u001b[39;49m\n",
      "\u001b[0;31mZeroDivisionError\u001b[0m: division by zero"
     ]
    }
   ],
   "source": [
    "# Example file for working with classes\n",
    "# LinkedIn Learning Python course by Joe Marini\n",
    "\n",
    "# Errors can happen in programs, and we need a clean way to handle them\n",
    "# TODO: This code will cause an error because you can't divide by zero:\n",
    "x = 10/0\n"
   ]
  },
  {
   "cell_type": "code",
   "execution_count": 68,
   "id": "d609aad5-207e-4b8e-af53-d839ffc72781",
   "metadata": {},
   "outputs": [
    {
     "name": "stdout",
     "output_type": "stream",
     "text": [
      "Well! That didn't work\n"
     ]
    }
   ],
   "source": [
    "# TODO: Exceptions provide a way of catching errors and then handling them in \n",
    "# a separate section of the code to group them together\n",
    "try:\n",
    "    x = 10/0 \n",
    "except:\n",
    "    print(\"Well! That didn't work\")\n",
    "\n"
   ]
  },
  {
   "cell_type": "code",
   "execution_count": 69,
   "id": "83598cad-46c8-4fb0-bc97-ab813adb890f",
   "metadata": {},
   "outputs": [
    {
     "name": "stdin",
     "output_type": "stream",
     "text": [
      "What should I divide 10 by?  2\n"
     ]
    },
    {
     "name": "stdout",
     "output_type": "stream",
     "text": [
      "5.0\n",
      "This code always runs!\n"
     ]
    }
   ],
   "source": [
    "# TODO: You can also catch specific exceptions\n",
    "try:\n",
    "    answer = input(\"What should I divide 10 by? \")\n",
    "    num= int(answer)\n",
    "    print(10/num)\n",
    "\n",
    "except ZeroDivisionError as e:\n",
    "    print(\"You can't divide by zero!\")\n",
    "\n",
    "except ValueError as e:\n",
    "    print(\"Enter valid number!\")\n",
    "    print(e)\n",
    "\n",
    "finally:\n",
    "    print(\"This code always runs!\")"
   ]
  },
  {
   "cell_type": "code",
   "execution_count": 70,
   "id": "be9c643a-f701-4519-87fe-77cb4637204e",
   "metadata": {},
   "outputs": [
    {
     "name": "stdin",
     "output_type": "stream",
     "text": [
      "What should I divide 10 by?  0\n"
     ]
    },
    {
     "name": "stdout",
     "output_type": "stream",
     "text": [
      "You can't divide by zero!\n",
      "This code always runs!\n"
     ]
    }
   ],
   "source": [
    "# TODO: You can also catch specific exceptions\n",
    "try:\n",
    "    answer = input(\"What should I divide 10 by? \")\n",
    "    num= int(answer)\n",
    "    print(10/num)\n",
    "\n",
    "except ZeroDivisionError as e:\n",
    "    print(\"You can't divide by zero!\")\n",
    "\n",
    "except ValueError as e:\n",
    "    print(\"Enter valid number!\")\n",
    "    print(e)\n",
    "\n",
    "finally:\n",
    "    print(\"This code always runs!\")"
   ]
  },
  {
   "cell_type": "code",
   "execution_count": 71,
   "id": "db6f9da5-7204-4a1f-8053-8688b001d844",
   "metadata": {},
   "outputs": [
    {
     "name": "stdin",
     "output_type": "stream",
     "text": [
      "What should I divide 10 by?  k\n"
     ]
    },
    {
     "name": "stdout",
     "output_type": "stream",
     "text": [
      "Enter valid number!\n",
      "invalid literal for int() with base 10: 'k'\n",
      "This code always runs!\n"
     ]
    }
   ],
   "source": [
    "# TODO: You can also catch specific exceptions\n",
    "try:\n",
    "    answer = input(\"What should I divide 10 by? \")\n",
    "    num= int(answer)\n",
    "    print(10/num)\n",
    "\n",
    "except ZeroDivisionError as e:\n",
    "    print(\"You can't divide by zero!\")\n",
    "\n",
    "except ValueError as e:\n",
    "    print(\"Enter valid number!\")\n",
    "    print(e)\n",
    "\n",
    "finally:\n",
    "    print(\"This code always runs!\")\n",
    "    "
   ]
  },
  {
   "cell_type": "code",
   "execution_count": null,
   "id": "d69b2c10-8b77-4cde-aeaa-82f2145e321a",
   "metadata": {},
   "outputs": [],
   "source": []
  }
 ],
 "metadata": {
  "kernelspec": {
   "display_name": "Python 3 (ipykernel)",
   "language": "python",
   "name": "python3"
  },
  "language_info": {
   "codemirror_mode": {
    "name": "ipython",
    "version": 3
   },
   "file_extension": ".py",
   "mimetype": "text/x-python",
   "name": "python",
   "nbconvert_exporter": "python",
   "pygments_lexer": "ipython3",
   "version": "3.12.4"
  }
 },
 "nbformat": 4,
 "nbformat_minor": 5
}
