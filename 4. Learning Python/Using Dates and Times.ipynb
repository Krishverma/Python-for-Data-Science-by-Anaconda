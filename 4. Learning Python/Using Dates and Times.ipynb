{
 "cells": [
  {
   "cell_type": "markdown",
   "id": "ae40ca47-364a-4d45-a34b-672a456a1942",
   "metadata": {},
   "source": [
    "## Date, Time, Datetime classes"
   ]
  },
  {
   "cell_type": "code",
   "execution_count": 1,
   "id": "620a548f-453e-46cd-98bd-24794b7600f9",
   "metadata": {},
   "outputs": [],
   "source": [
    "# Example file for working with date information\n",
    "# LinkedIn Learning Python course by Joe Marini\n",
    "\n",
    "from datetime import date\n",
    "from datetime import time\n",
    "from datetime import datetime"
   ]
  },
  {
   "cell_type": "code",
   "execution_count": 2,
   "id": "4270a739-ab3d-4180-8136-f27c5501e2f8",
   "metadata": {},
   "outputs": [
    {
     "name": "stdout",
     "output_type": "stream",
     "text": [
      "Today's date is  2024-07-11\n"
     ]
    }
   ],
   "source": [
    "## DATE OBJECTS\n",
    "# TODO: Get today's date from the simple today() method from the date class\n",
    "today = date.today()\n",
    "print(\"Today's date is \",today)\n"
   ]
  },
  {
   "cell_type": "code",
   "execution_count": 3,
   "id": "d389ede2-8638-4016-9e89-2a9c385a69b6",
   "metadata": {},
   "outputs": [
    {
     "name": "stdout",
     "output_type": "stream",
     "text": [
      "Date Components:  11 7 2024\n"
     ]
    }
   ],
   "source": [
    "\n",
    "# TODO: print out the date's individual components\n",
    "print(\"Date Components: \",today.day, today.month, today.year)\n",
    "    "
   ]
  },
  {
   "cell_type": "code",
   "execution_count": 4,
   "id": "942f987b-caee-4f29-8ab6-1089c45d25c2",
   "metadata": {},
   "outputs": [
    {
     "name": "stdout",
     "output_type": "stream",
     "text": [
      "Today's weekday number:  3\n",
      "Which is a  thurs\n"
     ]
    }
   ],
   "source": [
    "\n",
    "# TODO: retrieve today's weekday (0=Monday, 6=Sunday)\n",
    "print(\"Today's weekday number: \",today.weekday())\n",
    "days = [\"mon\",\"tue\",\"wed\",\"thurs\",\"fri\",\"sat\",\"sun\"]\n",
    "print(\"Which is a \",days[today.weekday()])\n"
   ]
  },
  {
   "cell_type": "code",
   "execution_count": 5,
   "id": "aa1c1576-301b-4159-b8c8-f188bebec4d8",
   "metadata": {},
   "outputs": [
    {
     "name": "stdout",
     "output_type": "stream",
     "text": [
      "Current date and time is  2024-07-11 12:36:06.673715\n"
     ]
    }
   ],
   "source": [
    "\n",
    "## DATETIME OBJECTS\n",
    "# TODO: Get today's date from the datetime class\n",
    "today = datetime.now()\n",
    "print(\"Current date and time is \",today)\n"
   ]
  },
  {
   "cell_type": "code",
   "execution_count": 6,
   "id": "2fdc3015-2fab-4999-94fd-a4e4f6f9ccd3",
   "metadata": {},
   "outputs": [
    {
     "name": "stdout",
     "output_type": "stream",
     "text": [
      "The current time is 12:37:02.604551\n"
     ]
    }
   ],
   "source": [
    "\n",
    "# TODO: Get the current time\n",
    "t = datetime.time(datetime.now())\n",
    "print(\"The current time is\",t)"
   ]
  },
  {
   "cell_type": "code",
   "execution_count": 13,
   "id": "3c2440c3-b3e8-4e2d-903c-37bec416868e",
   "metadata": {},
   "outputs": [
    {
     "name": "stdout",
     "output_type": "stream",
     "text": [
      "Current year is: 2024\n",
      "Thursday, 11 July, 24\n",
      "Locale Date and Time: Thu Jul 11 13:04:26 2024\n",
      "Locale Date: 13:04:26\n",
      "Locale Date: 07/11/24\n",
      "Current Time: 01:04:26 PM\n",
      "24-hour Time: 13:04\n"
     ]
    }
   ],
   "source": [
    "# Example file for formatting time and date output\n",
    "# LinkedIn Learning Python course by Joe Marini\n",
    "\n",
    "# Times and dates can be formatted using a set of predefined string\n",
    "# control codes \n",
    "\n",
    "now = datetime.now()\n",
    "\n",
    "#### Date Formatting ####\n",
    "    \n",
    "# %y/%Y - Year, %a/%A - weekday, %b/%B - month, %d - day of month\n",
    "print(now.strftime(\"Current year is: %Y\"))\n",
    "print(now.strftime(\"%A, %d %B, %y\"))\n",
    "\n",
    "# %c - locale's date and time, %x - locale's date, %X - locale's time\n",
    "print(now.strftime(\"Locale Date and Time: %c\"))\n",
    "print(now.strftime(\"Locale Date: %X\"))\n",
    "print(now.strftime(\"Locale Date: %x\"))\n",
    "\n",
    "#### Time Formatting ####\n",
    "    \n",
    "# %I/%H - 12/24 Hour, %M - minute, %S - second, %p - locale's AM/PM\n",
    "print(now.strftime(\"Current Time: %I:%M:%S %p\"))\n",
    "print(now.strftime(\"24-hour Time: %H:%M\"))"
   ]
  },
  {
   "cell_type": "code",
   "execution_count": 15,
   "id": "c905d490-e6c3-43dd-a1fb-edcb6078f78d",
   "metadata": {},
   "outputs": [],
   "source": [
    "# Example file for working with timedelta objects\n",
    "# LinkedIn Learning Python course by Joe Marini\n",
    "\n",
    "from datetime import date\n",
    "from datetime import time\n",
    "from datetime import datetime\n",
    "from datetime import timedelta"
   ]
  },
  {
   "cell_type": "code",
   "execution_count": 24,
   "id": "fdf497f7-89c3-4d9d-9c7c-7f9c39cb1281",
   "metadata": {},
   "outputs": [
    {
     "name": "stdout",
     "output_type": "stream",
     "text": [
      "365 days, 5:01:00\n",
      "Today is  2024-07-11 13:47:07.370414\n",
      "One year from now it will be 2025-07-11 13:47:07.370414\n",
      "In two weeks and 3 days it will be  2024-07-28 13:47:07.370414\n",
      "One week ago it was  Thursday July 04, 2024\n"
     ]
    }
   ],
   "source": [
    "# TODO: construct a basic timedelta and print it\n",
    "print(timedelta(days=365, hours=5, minutes=1))\n",
    "\n",
    "# TODO: print today's date\n",
    "now = datetime.now()\n",
    "print(\"Today is \",now)\n",
    "\n",
    "# TODO: print today's date one year from now\n",
    "print(\"One year from now it will be\",str(now+timedelta(days=365)))\n",
    "\n",
    "# TODO: create a timedelta that uses more than one argument\n",
    "print(\"In two weeks and 3 days it will be \",str(now+timedelta(weeks=2, days=3)))\n",
    "\n",
    "# TODO: calculate the date 1 week ago, formatted as a string\n",
    "t = datetime.now() - timedelta(weeks = 1)\n",
    "s=t.strftime(\"%A %B %d, %Y\")\n",
    "print(\"One week ago it was \",s)\n",
    "\n"
   ]
  },
  {
   "cell_type": "code",
   "execution_count": 28,
   "id": "441e05af-3781-4673-9d43-935ba46957cd",
   "metadata": {},
   "outputs": [
    {
     "name": "stdout",
     "output_type": "stream",
     "text": [
      "April Fools day already went by:  101 days\n",
      "It is:  264 days untill next April fools day\n"
     ]
    }
   ],
   "source": [
    "### How many days until April Fools' Day?\n",
    "today = date.today()\n",
    "afd = date(today.year,4,1)\n",
    "\n",
    "# TODO: use date comparison to see if April Fool's has already gone for this year\n",
    "# if it has, use the replace() function to get the date for next year\n",
    "if afd< today:\n",
    "    print(\"April Fools day already went by: \",(today-afd).days,\"days\")\n",
    "    afd = afd.replace(year=today.year+1)\n",
    "    \n",
    "# TODO: Now calculate the amount of time until April Fool's Day  \n",
    "time_to_afd = afd - today\n",
    "print(\"It is: \",time_to_afd.days,\"days untill next April fools day\")\n"
   ]
  },
  {
   "cell_type": "code",
   "execution_count": 29,
   "id": "8e5993de-68bf-4491-8750-7ed58b36e547",
   "metadata": {},
   "outputs": [],
   "source": [
    "# Example file for working with Calendars\n",
    "# LinkedIn Learning Python course by Joe Marini\n",
    "\n",
    "\n",
    "# TODO: import the calendar module\n",
    "import calendar\n"
   ]
  },
  {
   "cell_type": "code",
   "execution_count": 33,
   "id": "c9345c1d-963b-41ba-968c-f017b13cb798",
   "metadata": {},
   "outputs": [
    {
     "name": "stdout",
     "output_type": "stream",
     "text": [
      "     July 2024\n",
      "Su Mo Tu We Th Fr Sa\n",
      "    1  2  3  4  5  6\n",
      " 7  8  9 10 11 12 13\n",
      "14 15 16 17 18 19 20\n",
      "21 22 23 24 25 26 27\n",
      "28 29 30 31\n",
      "\n",
      "     July 2024\n",
      "Mo Tu We Th Fr Sa Su\n",
      " 1  2  3  4  5  6  7\n",
      " 8  9 10 11 12 13 14\n",
      "15 16 17 18 19 20 21\n",
      "22 23 24 25 26 27 28\n",
      "29 30 31\n",
      "\n"
     ]
    }
   ],
   "source": [
    "\n",
    "# TODO: create a plain text calendar\n",
    "c = calendar.TextCalendar(calendar.SUNDAY)\n",
    "str1 = c.formatmonth(2024,7,0,0)\n",
    "print(str1)\n",
    "\n",
    "s = calendar.TextCalendar(calendar.MONDAY)\n",
    "str2 = s.formatmonth(2024,7,0,0)\n",
    "print(str2)\n"
   ]
  },
  {
   "cell_type": "code",
   "execution_count": 35,
   "id": "23303a41-6f46-4ec5-bf8a-4915765d1101",
   "metadata": {},
   "outputs": [
    {
     "name": "stdout",
     "output_type": "stream",
     "text": [
      "<table border=\"0\" cellpadding=\"0\" cellspacing=\"0\" class=\"month\">\n",
      "<tr><th colspan=\"7\" class=\"month\">July 2024</th></tr>\n",
      "<tr><th class=\"sun\">Sun</th><th class=\"mon\">Mon</th><th class=\"tue\">Tue</th><th class=\"wed\">Wed</th><th class=\"thu\">Thu</th><th class=\"fri\">Fri</th><th class=\"sat\">Sat</th></tr>\n",
      "<tr><td class=\"noday\">&nbsp;</td><td class=\"mon\">1</td><td class=\"tue\">2</td><td class=\"wed\">3</td><td class=\"thu\">4</td><td class=\"fri\">5</td><td class=\"sat\">6</td></tr>\n",
      "<tr><td class=\"sun\">7</td><td class=\"mon\">8</td><td class=\"tue\">9</td><td class=\"wed\">10</td><td class=\"thu\">11</td><td class=\"fri\">12</td><td class=\"sat\">13</td></tr>\n",
      "<tr><td class=\"sun\">14</td><td class=\"mon\">15</td><td class=\"tue\">16</td><td class=\"wed\">17</td><td class=\"thu\">18</td><td class=\"fri\">19</td><td class=\"sat\">20</td></tr>\n",
      "<tr><td class=\"sun\">21</td><td class=\"mon\">22</td><td class=\"tue\">23</td><td class=\"wed\">24</td><td class=\"thu\">25</td><td class=\"fri\">26</td><td class=\"sat\">27</td></tr>\n",
      "<tr><td class=\"sun\">28</td><td class=\"mon\">29</td><td class=\"tue\">30</td><td class=\"wed\">31</td><td class=\"noday\">&nbsp;</td><td class=\"noday\">&nbsp;</td><td class=\"noday\">&nbsp;</td></tr>\n",
      "</table>\n",
      "\n"
     ]
    }
   ],
   "source": [
    "\n",
    "# TODO: create an HTML formatted calendar\n",
    "hc = calendar.HTMLCalendar(calendar.SUNDAY)\n",
    "str1 = hc.formatmonth(2024,7)\n",
    "print(str1)\n",
    "\n"
   ]
  },
  {
   "cell_type": "code",
   "execution_count": 39,
   "id": "171ee87b-e96c-4207-8c50-8ebd3236551c",
   "metadata": {},
   "outputs": [
    {
     "name": "stdout",
     "output_type": "stream",
     "text": [
      "0\n",
      "1\n",
      "2\n",
      "3\n",
      "4\n",
      "5\n",
      "6\n",
      "7\n",
      "8\n",
      "9\n",
      "10\n",
      "11\n",
      "12\n",
      "13\n",
      "14\n",
      "15\n",
      "16\n",
      "17\n",
      "18\n",
      "19\n",
      "20\n",
      "21\n",
      "22\n",
      "23\n",
      "24\n",
      "25\n",
      "26\n",
      "27\n",
      "28\n",
      "29\n",
      "30\n",
      "31\n",
      "0\n",
      "0\n",
      "0\n"
     ]
    }
   ],
   "source": [
    "# TODO: loop over the days of a month\n",
    "# zeroes mean that the day of the week is in an overlapping month\n",
    "for i in c.itermonthdays(2024,7):\n",
    "    print(i)"
   ]
  },
  {
   "cell_type": "code",
   "execution_count": 42,
   "id": "c231617c-d3f3-4294-a099-b3484e783c82",
   "metadata": {},
   "outputs": [
    {
     "name": "stdout",
     "output_type": "stream",
     "text": [
      "\n",
      "January\n",
      "February\n",
      "March\n",
      "April\n",
      "May\n",
      "June\n",
      "July\n",
      "August\n",
      "September\n",
      "October\n",
      "November\n",
      "December\n",
      "Monday\n",
      "Tuesday\n",
      "Wednesday\n",
      "Thursday\n",
      "Friday\n",
      "Saturday\n",
      "Sunday\n"
     ]
    }
   ],
   "source": [
    "# TODO: The Calendar module provides useful utilities for the given locale,\n",
    "# such as the names of days and months in both full and abbreviated forms\n",
    "for name in calendar.month_name:\n",
    "    print(name)\n",
    "\n",
    "for day in calendar.day_name:\n",
    "    print(day)"
   ]
  },
  {
   "cell_type": "code",
   "execution_count": 43,
   "id": "749ad60c-189b-4192-b0c2-0049a7846bdb",
   "metadata": {},
   "outputs": [
    {
     "name": "stdout",
     "output_type": "stream",
     "text": [
      "Team meethings will be on: \n",
      "January 5\n",
      "February 2\n",
      "March 1\n",
      "April 5\n",
      "May 3\n",
      "June 7\n",
      "July 5\n",
      "August 2\n",
      "September 6\n",
      "October 4\n",
      "November 1\n",
      "December 6\n"
     ]
    }
   ],
   "source": [
    "# TODO: Calculate days based on a rule: For example, consider\n",
    "# a team meeting on the first Friday of every month.\n",
    "# To figure out what days that would be for each month,\n",
    "# we can use this script:\n",
    "\n",
    "print(\"Team meethings will be on: \")\n",
    "for m in range(1,13):\n",
    "    cal = calendar.monthcalendar(2024,m)\n",
    "    week1 = cal[0]\n",
    "    week2 = cal[1]\n",
    "    if week1[calendar.FRIDAY] !=0 :\n",
    "        meetday = week1[calendar.FRIDAY]\n",
    "    else:\n",
    "        meetday = week2[calendar.FRIDAY]\n",
    "\n",
    "    print(calendar.month_name[m],meetday)"
   ]
  },
  {
   "cell_type": "code",
   "execution_count": null,
   "id": "d3483454-5fb9-456b-a235-9bfa92c1f20c",
   "metadata": {},
   "outputs": [],
   "source": []
  },
  {
   "cell_type": "code",
   "execution_count": null,
   "id": "851b8d6c-a8bf-421a-888b-cdca9d6a6177",
   "metadata": {},
   "outputs": [],
   "source": []
  }
 ],
 "metadata": {
  "kernelspec": {
   "display_name": "Python 3 (ipykernel)",
   "language": "python",
   "name": "python3"
  },
  "language_info": {
   "codemirror_mode": {
    "name": "ipython",
    "version": 3
   },
   "file_extension": ".py",
   "mimetype": "text/x-python",
   "name": "python",
   "nbconvert_exporter": "python",
   "pygments_lexer": "ipython3",
   "version": "3.12.4"
  }
 },
 "nbformat": 4,
 "nbformat_minor": 5
}
