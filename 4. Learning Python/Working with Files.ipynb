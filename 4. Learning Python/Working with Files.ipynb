{
 "cells": [
  {
   "cell_type": "markdown",
   "id": "a18e8d46-d576-4139-b3df-5fed76cf0fe3",
   "metadata": {},
   "source": [
    "## Reading and Writing Files"
   ]
  },
  {
   "cell_type": "code",
   "execution_count": 11,
   "id": "368bdb6f-cf83-48d6-92c7-aa747261cb4b",
   "metadata": {},
   "outputs": [],
   "source": [
    "# Read and write files using the built-in Python file methods\n",
    "# LinkedIn Learning Python course by Joe Marini\n",
    "\n",
    "def main():  \n",
    "    # Open a file for writing and create it if it doesn't exist\n",
    "    myfile = open(\"textfile.txt\",\"w+\")\n",
    "\n",
    "    # write some lines of data to the file\n",
    "    for i in range(10):\n",
    "        myfile.write(f\"{i+1}. This is some text\\n\")\n",
    "    \n",
    "    # close the file when done\n",
    "    myfile.close()\n",
    "\n",
    "if __name__ == \"__main__\":\n",
    "    main()\n"
   ]
  },
  {
   "cell_type": "code",
   "execution_count": 12,
   "id": "8e2a48b1-7b44-4288-adf1-58f214f8dcec",
   "metadata": {},
   "outputs": [],
   "source": [
    "def main():\n",
    "         \n",
    "    # Open the file for appending text to the end\n",
    "    myfile = open(\"textfile.txt\",\"a+\")\n",
    "        \n",
    "    # Open the file back up and read the contents\n",
    "    for i in range(10,20):\n",
    "        myfile.write(f\"{i+1}. This is some new text\\n\")\n",
    "   \n",
    "    # close the file when done\n",
    "    myfile.close()\n",
    "\n",
    "if __name__ == \"__main__\":\n",
    "    main()\n"
   ]
  },
  {
   "cell_type": "code",
   "execution_count": 13,
   "id": "3504de3d-c659-4476-99f6-ca4abec7ecc6",
   "metadata": {},
   "outputs": [
    {
     "name": "stdout",
     "output_type": "stream",
     "text": [
      "1. This is some text\n",
      "2. This is some text\n",
      "3. This is some text\n",
      "4. This is some text\n",
      "5. This is some text\n",
      "6. This is some text\n",
      "7. This is some text\n",
      "8. This is some text\n",
      "9. This is some text\n",
      "10. This is some text\n",
      "11. This is some new text\n",
      "12. This is some new text\n",
      "13. This is some new text\n",
      "14. This is some new text\n",
      "15. This is some new text\n",
      "16. This is some new text\n",
      "17. This is some new text\n",
      "18. This is some new text\n",
      "19. This is some new text\n",
      "20. This is some new text\n",
      "\n"
     ]
    }
   ],
   "source": [
    "def main():  \n",
    "   \n",
    "    # Open the file back up and read the contents\n",
    "    myfile = open(\"textfile.txt\",\"r\")\n",
    "    if myfile.mode == \"r\":\n",
    "        contents = myfile.read()\n",
    "        print(contents)\n",
    "    \n",
    "if __name__ == \"__main__\":\n",
    "    main()\n"
   ]
  },
  {
   "cell_type": "code",
   "execution_count": 15,
   "id": "a38cd75d-78c6-4bd0-9d7b-12090bd3949c",
   "metadata": {},
   "outputs": [
    {
     "name": "stdout",
     "output_type": "stream",
     "text": [
      "1. This is some text\n",
      "2. This is some text\n",
      "3. This is some text\n",
      "4. This is some text\n",
      "5. This is some text\n",
      "6. This is some text\n",
      "7. This is some text\n",
      "8. This is some text\n",
      "9. This is some text\n",
      "10. This is some text\n",
      "11. This is some new text\n",
      "12. This is some new text\n",
      "13. This is some new text\n",
      "14. This is some new text\n",
      "15. This is some new text\n",
      "16. This is some new text\n",
      "17. This is some new text\n",
      "18. This is some new text\n",
      "19. This is some new text\n",
      "20. This is some new text\n"
     ]
    }
   ],
   "source": [
    "def main():  \n",
    "   \n",
    "    # Open the file back up and read the contents\n",
    "    myfile = open(\"textfile.txt\",\"r\")\n",
    "    if myfile.mode == \"r\":\n",
    "        f1 = myfile.readlines()\n",
    "        for x in f1:\n",
    "            print(x.strip())\n",
    "    \n",
    "if __name__ == \"__main__\":\n",
    "    main()\n"
   ]
  },
  {
   "cell_type": "markdown",
   "id": "3d576b38-3e6c-486d-80e9-343f76ad1e15",
   "metadata": {},
   "source": [
    "## OS Path utilities"
   ]
  },
  {
   "cell_type": "code",
   "execution_count": 16,
   "id": "64f04169-b4cb-45de-915b-7c2693a0f56b",
   "metadata": {},
   "outputs": [],
   "source": [
    "# Example file for working with os.path module\n",
    "# LinkedIn Learning Python course by Joe Marini\n",
    "\n",
    "import os\n",
    "from os import path\n",
    "import datetime\n",
    "from datetime import date, time, timedelta\n",
    "import time\n"
   ]
  },
  {
   "cell_type": "code",
   "execution_count": 21,
   "id": "dda51af2-b2ff-41b8-ad56-10451841b243",
   "metadata": {},
   "outputs": [
    {
     "name": "stdout",
     "output_type": "stream",
     "text": [
      "posix\n"
     ]
    }
   ],
   "source": [
    "# Print the name of the OS\n",
    "print(os.name)"
   ]
  },
  {
   "cell_type": "code",
   "execution_count": 22,
   "id": "1b9d8782-d58d-4f3c-94a6-5b2072f1a14b",
   "metadata": {},
   "outputs": [
    {
     "name": "stdout",
     "output_type": "stream",
     "text": [
      "Item exists:  True\n",
      "Item is a file:  True\n",
      "Item is a directory:  False\n"
     ]
    }
   ],
   "source": [
    "# Check for item existence and type\n",
    "\n",
    "print(\"Item exists: \",str(path.exists(\"textfile.txt\")))\n",
    "print(\"Item is a file: \",path.isfile(\"textfile.txt\"))\n",
    "print(\"Item is a directory: \",path.isdir(\"textfile.txt\"))"
   ]
  },
  {
   "cell_type": "code",
   "execution_count": 25,
   "id": "93f81fc6-ea4c-4027-b1f9-36e4d47ff97e",
   "metadata": {},
   "outputs": [
    {
     "name": "stdout",
     "output_type": "stream",
     "text": [
      "Item's path:  /Users/krish/Documents/Summer Courses/Python for Data Science by Anaconda/Program Directory/4. Learning Python/textfile.txt\n",
      "Item's path and name:  ('/Users/krish/Documents/Summer Courses/Python for Data Science by Anaconda/Program Directory/4. Learning Python', 'textfile.txt')\n"
     ]
    }
   ],
   "source": [
    "# Work with file paths\n",
    "print(\"Item's path: \",path.realpath(\"textfile.txt\"))\n",
    "print(\"Item's path and name: \",path.split(path.realpath(\"textfile.txt\")))"
   ]
  },
  {
   "cell_type": "code",
   "execution_count": 26,
   "id": "7d70ca11-dfbc-415c-954d-0bd0f403cc24",
   "metadata": {},
   "outputs": [
    {
     "name": "stdout",
     "output_type": "stream",
     "text": [
      "Wed Jul 10 18:48:18 2024\n",
      "2024-07-10 18:48:18.721288\n"
     ]
    }
   ],
   "source": [
    "# Get the modification time\n",
    "t = time.ctime(path.getmtime(\"textfile.txt\"))\n",
    "print(t)\n",
    "print(datetime.datetime.fromtimestamp(path.getmtime(\"textfile.txt\")))"
   ]
  },
  {
   "cell_type": "code",
   "execution_count": 27,
   "id": "c9adeefd-ac68-423e-b3f2-e1f505f1ae8a",
   "metadata": {},
   "outputs": [
    {
     "name": "stdout",
     "output_type": "stream",
     "text": [
      "It has been  0:39:17.684432  since the file was modified\n",
      "Or,  2357.684432 seconds\n"
     ]
    }
   ],
   "source": [
    "# Calculate how long ago the item was modified\n",
    "td = datetime.datetime.now() - datetime.datetime.fromtimestamp(path.getmtime(\"textfile.txt\"))\n",
    "print(\"It has been \",td,\" since the file was modified\")\n",
    "print(\"Or, \",td.total_seconds(),\"seconds\")"
   ]
  },
  {
   "cell_type": "markdown",
   "id": "e8d7eeab-f8a1-4851-ab23-6d8290fdf72a",
   "metadata": {},
   "source": [
    "## Shell methods"
   ]
  },
  {
   "cell_type": "code",
   "execution_count": 29,
   "id": "68125935-89ac-47c3-916d-c455b9fffb5f",
   "metadata": {},
   "outputs": [],
   "source": [
    "# Example file for working with filesystem shell methods\n",
    "# LinkedIn Learning Python course by Joe Marini\n",
    "\n",
    "\n",
    "import os\n",
    "from os import path\n",
    "import shutil"
   ]
  },
  {
   "cell_type": "code",
   "execution_count": 31,
   "id": "71223687-fb19-45ca-9336-37c65de4a3fa",
   "metadata": {},
   "outputs": [],
   "source": [
    "# make a duplicate of an existing file\n",
    "if path.exists(\"textfile.txt\"):\n",
    "    # get the path to the file in the current directory\n",
    "    src = path.realpath(\"textfile.txt\")    \n",
    "    # let's make a backup copy by appending \"bak\" to the name\n",
    "    dst = src + \".bak\"\n",
    "    shutil.copy(src,dst)"
   ]
  },
  {
   "cell_type": "code",
   "execution_count": 33,
   "id": "58dc5e07-2adc-4406-87f4-fde1f3818d04",
   "metadata": {},
   "outputs": [],
   "source": [
    "# rename the original file\n",
    "os.rename(\"textfile.txt.bak\",\"newfile.txt.bak\")        \n"
   ]
  },
  {
   "cell_type": "code",
   "execution_count": 37,
   "id": "02f1f6aa-47d7-493d-8076-593eef734262",
   "metadata": {},
   "outputs": [
    {
     "data": {
      "text/plain": [
       "'/Users/krish/Documents/Summer Courses/Python for Data Science by Anaconda/Program Directory/4. Learning Python/archive.zip'"
      ]
     },
     "execution_count": 37,
     "metadata": {},
     "output_type": "execute_result"
    }
   ],
   "source": [
    "# now put things into a ZIP archive\n",
    "from shutil import make_archive\n",
    "root_dir,tail = path.split(src)\n",
    "shutil.make_archive(\"archive\",\"zip\",root_dir)\n"
   ]
  },
  {
   "cell_type": "code",
   "execution_count": 38,
   "id": "e3f8b82d-c089-4514-b6c0-9d7fd7c584e8",
   "metadata": {},
   "outputs": [],
   "source": [
    "# more fine-grained control over ZIP files\n",
    "from zipfile import ZipFile\n",
    "with ZipFile(\"testzip.zip\",\"w\") as newzip:\n",
    "    newzip.write(\"newfile.txt.bak\")\n",
    "    newzip.write(\"textfile.txt\")"
   ]
  },
  {
   "cell_type": "code",
   "execution_count": 39,
   "id": "8e7c5a1f-1363-48a7-9faa-5c55e2d654bd",
   "metadata": {},
   "outputs": [],
   "source": [
    "# Solution to programming challenge for Learning Python course\n",
    "# LinkedIn Learning Python course by Joe Marini\n",
    "\n",
    "import os\n",
    "\n",
    "totalbytes = 0\n",
    "\n",
    "# get a list of all the files in the current directory\n",
    "dirlist = os.listdir()\n",
    "for entry in dirlist:\n",
    "    # make sure it's a file!\n",
    "    if os.path.isfile(entry):\n",
    "        # add the file size to the total\n",
    "        filesize = os.path.getsize(entry)\n",
    "        totalbytes += filesize\n",
    "\n",
    "# create a subdirectory called \"results\"\n",
    "os.mkdir(\"results\")\n",
    "\n",
    "# create the output file\n",
    "resultsfile = open(\"results/results.txt\", \"w+\")\n",
    "if resultsfile.mode == \"w+\":\n",
    "    resultsfile.write(\"Total bytecount:\" + str(totalbytes) + \"\\n\")\n",
    "    resultsfile.write(\"Files list:\\n\")\n",
    "    resultsfile.write(\"--------------\\n\")\n",
    "    # write the results into the file\n",
    "    for entry in dirlist:\n",
    "        if os.path.isfile(entry):\n",
    "            # write the file name to the results ledger\n",
    "            resultsfile.write(entry + \"\\n\")\n",
    "\n",
    "    # close the file when done\n",
    "    resultsfile.close()\n"
   ]
  },
  {
   "cell_type": "code",
   "execution_count": null,
   "id": "a435ecc7-b5f6-4855-a325-e6a8ea20cf48",
   "metadata": {},
   "outputs": [],
   "source": []
  }
 ],
 "metadata": {
  "kernelspec": {
   "display_name": "Python 3 (ipykernel)",
   "language": "python",
   "name": "python3"
  },
  "language_info": {
   "codemirror_mode": {
    "name": "ipython",
    "version": 3
   },
   "file_extension": ".py",
   "mimetype": "text/x-python",
   "name": "python",
   "nbconvert_exporter": "python",
   "pygments_lexer": "ipython3",
   "version": "3.12.4"
  }
 },
 "nbformat": 4,
 "nbformat_minor": 5
}
